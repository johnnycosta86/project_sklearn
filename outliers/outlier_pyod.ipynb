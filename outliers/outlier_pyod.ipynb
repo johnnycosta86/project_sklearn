{
 "cells": [
  {
   "cell_type": "code",
   "execution_count": 6,
   "metadata": {
    "collapsed": true,
    "pycharm": {
     "is_executing": false
    }
   },
   "outputs": [
    {
     "name": "stdout",
     "text": [
      "Requirement already satisfied: pyod in /home/johnny/anaconda3/envs/helloworld/lib/python3.7/site-packages (0.7.4)\r\nRequirement already satisfied: numpy>=1.13 in /home/johnny/anaconda3/envs/helloworld/lib/python3.7/site-packages (from pyod) (1.16.4)\r\nRequirement already satisfied: matplotlib in /home/johnny/anaconda3/envs/helloworld/lib/python3.7/site-packages (from pyod) (3.1.1)\r\nRequirement already satisfied: scikit-learn>=0.19.1 in /home/johnny/anaconda3/envs/helloworld/lib/python3.7/site-packages (from pyod) (0.21.3)\r\nRequirement already satisfied: six in /home/johnny/anaconda3/envs/helloworld/lib/python3.7/site-packages (from pyod) (1.12.0)\r\nRequirement already satisfied: scipy>=0.19.1 in /home/johnny/anaconda3/envs/helloworld/lib/python3.7/site-packages (from pyod) (1.3.1)\r\nRequirement already satisfied: joblib in /home/johnny/anaconda3/envs/helloworld/lib/python3.7/site-packages (from pyod) (0.13.2)\r\nRequirement already satisfied: numba>=0.35 in /home/johnny/anaconda3/envs/helloworld/lib/python3.7/site-packages (from pyod) (0.45.1)\r\nRequirement already satisfied: cycler>=0.10 in /home/johnny/anaconda3/envs/helloworld/lib/python3.7/site-packages (from matplotlib->pyod) (0.10.0)\r\n",
      "Requirement already satisfied: kiwisolver>=1.0.1 in /home/johnny/anaconda3/envs/helloworld/lib/python3.7/site-packages (from matplotlib->pyod) (1.1.0)\r\nRequirement already satisfied: pyparsing!=2.0.4,!=2.1.2,!=2.1.6,>=2.0.1 in /home/johnny/anaconda3/envs/helloworld/lib/python3.7/site-packages (from matplotlib->pyod) (2.4.2)\r\nRequirement already satisfied: python-dateutil>=2.1 in /home/johnny/anaconda3/envs/helloworld/lib/python3.7/site-packages (from matplotlib->pyod) (2.8.0)\r\nRequirement already satisfied: llvmlite>=0.29.0dev0 in /home/johnny/anaconda3/envs/helloworld/lib/python3.7/site-packages (from numba>=0.35->pyod) (0.29.0)\r\nRequirement already satisfied: setuptools in /home/johnny/anaconda3/envs/helloworld/lib/python3.7/site-packages (from kiwisolver>=1.0.1->matplotlib->pyod) (41.0.1)\r\n"
     ],
     "output_type": "stream"
    }
   ],
   "source": [
    "!pip install pyod\n",
    "\n",
    "import pandas as pd\n",
    "\n",
    "base = pd.read_csv('credit_data.csv')\n",
    "base = base.dropna()"
   ]
  },
  {
   "cell_type": "code",
   "execution_count": 7,
   "outputs": [
    {
     "data": {
      "text/plain": "KNN(algorithm='auto', contamination=0.1, leaf_size=30, method='largest',\n  metric='minkowski', metric_params=None, n_jobs=1, n_neighbors=5, p=2,\n  radius=1.0)"
     },
     "metadata": {},
     "output_type": "execute_result",
     "execution_count": 7
    }
   ],
   "source": [
    "from pyod.models.knn import KNN\n",
    "detector = KNN()\n",
    "detector.fit(base.iloc[:,1:4])"
   ],
   "metadata": {
    "collapsed": false,
    "pycharm": {
     "name": "#%%\n",
     "is_executing": false
    }
   }
  },
  {
   "cell_type": "code",
   "execution_count": 8,
   "outputs": [],
   "source": [
    "previsoes = detector.labels_\n",
    "confianca_previsoes = detector.decision_scores_"
   ],
   "metadata": {
    "collapsed": false,
    "pycharm": {
     "name": "#%%\n",
     "is_executing": false
    }
   }
  },
  {
   "cell_type": "code",
   "execution_count": 9,
   "outputs": [],
   "source": [
    "outliers = []\n",
    "for i in range(len(previsoes)):\n",
    "    #print(previsoes[i])\n",
    "    if previsoes[i] == 1:\n",
    "        outliers.append(i)"
   ],
   "metadata": {
    "collapsed": false,
    "pycharm": {
     "name": "#%%\n",
     "is_executing": false
    }
   }
  },
  {
   "cell_type": "code",
   "execution_count": 10,
   "outputs": [
    {
     "name": "stdout",
     "text": [
      "      clientid        income        age          loan  default\n4            5  66952.688845  18.584336   8770.099235        1\n24          25  65301.984029  48.840922   5465.267886        0\n29          30  58842.891308  54.510948  10871.186790        0\n34          35  57584.973790  36.672021   1728.423755        0\n38          39  60921.063104  18.840526    968.836383        0\n...        ...           ...        ...           ...      ...\n1943      1944  59792.508585  24.187499    660.241453        0\n1944      1945  35879.519994  41.072935   5335.403499        0\n1957      1958  50458.958203  52.314565   9852.889427        0\n1996      1997  69516.127573  23.162104   3503.176156        0\n1999      2000  69436.579552  56.152617   7378.833599        0\n\n[200 rows x 5 columns]\n[4, 24, 28, 31, 35, 75, 87, 92, 101, 102, 108, 112, 125, 154, 157, 160, 162, 183, 215, 217, 231, 234, 272, 279, 289, 294, 301, 321, 322, 332, 339, 343, 347, 357, 358, 372, 391, 399, 401, 402, 411, 418, 419, 424, 446, 447, 449, 451, 477, 485, 486, 502, 505, 520, 528, 530, 532, 545, 570, 596, 630, 643, 660, 694, 707, 713, 734, 745, 762, 764, 839, 848, 875, 877, 882, 898, 924, 927, 930, 937, 942, 943, 949, 972, 974, 987, 989, 993, 996, 999, 1003, 1015, 1022, 1025, 1031, 1033, 1037, 1038, 1047, 1054, 1062, 1080, 1085, 1088, 1089, 1091, 1098, 1099, 1125, 1136, 1137, 1181, 1194, 1197, 1199, 1205, 1207, 1209, 1216, 1219, 1232, 1233, 1236, 1288, 1289, 1300, 1335, 1347, 1348, 1367, 1374, 1375, 1376, 1379, 1382, 1385, 1386, 1393, 1411, 1412, 1414, 1425, 1426, 1432, 1440, 1445, 1451, 1467, 1478, 1489, 1503, 1511, 1513, 1517, 1563, 1579, 1581, 1605, 1607, 1613, 1615, 1623, 1627, 1632, 1645, 1657, 1665, 1669, 1672, 1676, 1678, 1685, 1691, 1702, 1713, 1717, 1724, 1730, 1736, 1749, 1752, 1784, 1798, 1800, 1812, 1816, 1821, 1827, 1831, 1899, 1910, 1911, 1912, 1927, 1932, 1940, 1941, 1954, 1993, 1996]\n"
     ],
     "output_type": "stream"
    }
   ],
   "source": [
    "lista_outliers = base.iloc[outliers, :]\n",
    "print(lista_outliers)\n",
    "print(outliers)\n"
   ],
   "metadata": {
    "collapsed": false,
    "pycharm": {
     "name": "#%%\n",
     "is_executing": false
    }
   }
  }
 ],
 "metadata": {
  "language_info": {
   "codemirror_mode": {
    "name": "ipython",
    "version": 2
   },
   "file_extension": ".py",
   "mimetype": "text/x-python",
   "name": "python",
   "nbconvert_exporter": "python",
   "pygments_lexer": "ipython2",
   "version": "2.7.6"
  },
  "kernelspec": {
   "name": "python3",
   "language": "python",
   "display_name": "Python 3"
  },
  "pycharm": {
   "stem_cell": {
    "cell_type": "raw",
    "source": [],
    "metadata": {
     "collapsed": false
    }
   }
  }
 },
 "nbformat": 4,
 "nbformat_minor": 0
}