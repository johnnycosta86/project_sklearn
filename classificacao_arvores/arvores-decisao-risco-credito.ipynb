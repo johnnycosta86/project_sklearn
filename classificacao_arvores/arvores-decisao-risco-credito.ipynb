{
 "cells": [
  {
   "cell_type": "code",
   "execution_count": 1,
   "metadata": {
    "collapsed": true,
    "pycharm": {
     "is_executing": false
    }
   },
   "outputs": [
    {
     "name": "stdout",
     "text": [
      "[['ruim' 'alta' 'nenhuma' '0_15']\n ['desconhecida' 'alta' 'nenhuma' '15_35']\n ['desconhecida' 'baixa' 'nenhuma' '15_35']\n ['desconhecida' 'baixa' 'nenhuma' 'acima_35']\n ['desconhecida' 'baixa' 'nenhuma' 'acima_35']\n ['desconhecida' 'baixa' 'adequada' 'acima_35']\n ['ruim' 'baixa' 'nenhuma' '0_15']\n ['ruim' 'baixa' 'adequada' 'acima_35']\n ['boa' 'baixa' 'nenhuma' 'acima_35']\n ['boa' 'alta' 'adequada' 'acima_35']\n ['boa' 'alta' 'nenhuma' '0_15']\n ['boa' 'alta' 'nenhuma' '15_35']\n ['boa ' 'alta' 'nenhuma' 'acima_35']\n ['ruim' 'alta' 'nenhuma' '15_35']]\n['alto' 'alto' 'moderado' 'alto' 'baixo' 'baixo' 'alto' 'moderado' 'baixo'\n 'baixo' 'alto' 'moderado' 'baixo' 'alto']\n"
     ],
     "output_type": "stream"
    }
   ],
   "source": [
    "import pandas as pd\n",
    "\n",
    "base = pd.read_csv('risco_credito.csv')\n",
    "previsores = base.iloc[:,0:4].values\n",
    "classe = base.iloc[:,4].values\n",
    "\n",
    "print(previsores)\n",
    "print(classe)"
   ]
  },
  {
   "cell_type": "code",
   "execution_count": 2,
   "outputs": [
    {
     "name": "stdout",
     "text": [
      "[[3 0 1 0]\n [2 0 1 1]\n [2 1 1 1]\n [2 1 1 2]\n [2 1 1 2]\n [2 1 0 2]\n [3 1 1 0]\n [3 1 0 2]\n [0 1 1 2]\n [0 0 0 2]\n [0 0 1 0]\n [0 0 1 1]\n [1 0 1 2]\n [3 0 1 1]]\n"
     ],
     "output_type": "stream"
    }
   ],
   "source": [
    "from sklearn.preprocessing import LabelEncoder\n",
    "labelencoder = LabelEncoder()\n",
    "previsores[:,0] = labelencoder.fit_transform(previsores[:,0])\n",
    "previsores[:,1] = labelencoder.fit_transform(previsores[:,1])\n",
    "previsores[:,2] = labelencoder.fit_transform(previsores[:,2])\n",
    "previsores[:,3] = labelencoder.fit_transform(previsores[:,3])\n",
    "print(previsores)"
   ],
   "metadata": {
    "collapsed": false,
    "pycharm": {
     "name": "#%%\n",
     "is_executing": false
    }
   }
  },
  {
   "cell_type": "code",
   "execution_count": 3,
   "outputs": [
    {
     "name": "stdout",
     "text": [
      "[0.41391643 0.06408636 0.03885431 0.4831429 ]\n"
     ],
     "output_type": "stream"
    }
   ],
   "source": [
    "from sklearn.tree import DecisionTreeClassifier, export\n",
    "classificador = DecisionTreeClassifier(criterion='entropy')\n",
    "classificador.fit(previsores, classe)\n",
    "print(classificador.feature_importances_)"
   ],
   "metadata": {
    "collapsed": false,
    "pycharm": {
     "name": "#%%\n",
     "is_executing": false
    }
   }
  },
  {
   "cell_type": "code",
   "execution_count": 4,
   "outputs": [],
   "source": [
    "export.export_graphviz(classificador,\n",
    "                       out_file = 'arvore.dot',\n",
    "                       feature_names = ['historia', 'divida', 'garantias', 'renda'],\n",
    "                       class_names = ['alto', 'moderado', 'baixo'],\n",
    "                       filled = True,\n",
    "                       leaves_parallel=True)"
   ],
   "metadata": {
    "collapsed": false,
    "pycharm": {
     "name": "#%%\n",
     "is_executing": false
    }
   }
  },
  {
   "cell_type": "code",
   "execution_count": 5,
   "outputs": [
    {
     "name": "stdout",
     "text": [
      "['alto' 'baixo' 'moderado']\n"
     ],
     "output_type": "stream"
    }
   ],
   "source": [
    "# história boa, dívida alta, garantias nenhuma, renda > 35\n",
    "# história ruim, dívida alta, garantias adequada, renda < 15\n",
    "resultado = classificador.predict([[0,0,1,2], [3, 0, 0, 0]])\n",
    "print(classificador.classes_)\n",
    "#print(classificador.class_count_)\n",
    "#print(classificador.class_prior_)\n"
   ],
   "metadata": {
    "collapsed": false,
    "pycharm": {
     "name": "#%%\n",
     "is_executing": false
    }
   }
  }
 ],
 "metadata": {
  "language_info": {
   "codemirror_mode": {
    "name": "ipython",
    "version": 2
   },
   "file_extension": ".py",
   "mimetype": "text/x-python",
   "name": "python",
   "nbconvert_exporter": "python",
   "pygments_lexer": "ipython2",
   "version": "2.7.6"
  },
  "kernelspec": {
   "name": "python3",
   "language": "python",
   "display_name": "Python 3"
  },
  "pycharm": {
   "stem_cell": {
    "cell_type": "raw",
    "source": [],
    "metadata": {
     "collapsed": false
    }
   }
  }
 },
 "nbformat": 4,
 "nbformat_minor": 0
}