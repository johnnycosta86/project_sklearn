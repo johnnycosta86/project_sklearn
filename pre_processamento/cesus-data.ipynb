{
 "cells": [
  {
   "cell_type": "code",
   "execution_count": 1,
   "metadata": {
    "collapsed": true,
    "pycharm": {
     "is_executing": false
    }
   },
   "outputs": [
    {
     "data": {
      "text/plain": "(32561, 15)"
     },
     "metadata": {},
     "output_type": "execute_result",
     "execution_count": 1
    }
   ],
   "source": [
    "import pandas as pd\n",
    "base = pd.read_csv('census.csv')\n",
    "base.shape"
   ]
  },
  {
   "cell_type": "code",
   "execution_count": 2,
   "outputs": [
    {
     "data": {
      "text/plain": "array([[39, ' State-gov', 77516, ..., 0, 40, ' United-States'],\n       [50, ' Self-emp-not-inc', 83311, ..., 0, 13, ' United-States'],\n       [38, ' Private', 215646, ..., 0, 40, ' United-States'],\n       ...,\n       [58, ' Private', 151910, ..., 0, 40, ' United-States'],\n       [22, ' Private', 201490, ..., 0, 20, ' United-States'],\n       [52, ' Self-emp-inc', 287927, ..., 0, 40, ' United-States']],\n      dtype=object)"
     },
     "metadata": {},
     "output_type": "execute_result",
     "execution_count": 2
    }
   ],
   "source": [
    "# Retorna todas as colunas X\n",
    "previsores = base.iloc[:,0:14].values\n",
    "previsores"
   ],
   "metadata": {
    "collapsed": false,
    "pycharm": {
     "name": "#%%\n",
     "is_executing": false
    }
   }
  },
  {
   "cell_type": "code",
   "execution_count": 3,
   "outputs": [
    {
     "data": {
      "text/plain": "array([' <=50K', ' <=50K', ' <=50K', ..., ' <=50K', ' <=50K', ' >50K'],\n      dtype=object)"
     },
     "metadata": {},
     "output_type": "execute_result",
     "execution_count": 3
    }
   ],
   "source": [
    "# Retorna a coluna Classe\n",
    "classe = base.iloc[:,14].values\n",
    "classe"
   ],
   "metadata": {
    "collapsed": false,
    "pycharm": {
     "name": "#%%\n",
     "is_executing": false
    }
   }
  },
  {
   "cell_type": "code",
   "execution_count": 4,
   "outputs": [],
   "source": [
    "from sklearn.preprocessing import LabelEncoder\n",
    "labelEncoder_previsores = LabelEncoder()\n",
    "\n",
    "# Troca valores String em valores numericos. Pega coluna workclass e transforma em numero.\n",
    "#labels = labelEncoder_previsores.fit_transform(previsores[:,1])"
   ],
   "metadata": {
    "collapsed": false,
    "pycharm": {
     "name": "#%%\n",
     "is_executing": false
    }
   }
  },
  {
   "cell_type": "code",
   "execution_count": 5,
   "outputs": [
    {
     "data": {
      "text/plain": "array([[39, 7, 77516, ..., 0, 40, 39],\n       [50, 6, 83311, ..., 0, 13, 39],\n       [38, 4, 215646, ..., 0, 40, 39],\n       ...,\n       [58, 4, 151910, ..., 0, 40, 39],\n       [22, 4, 201490, ..., 0, 20, 39],\n       [52, 5, 287927, ..., 0, 40, 39]], dtype=object)"
     },
     "metadata": {},
     "output_type": "execute_result",
     "execution_count": 5
    }
   ],
   "source": [
    "# Troca os valores de todas as colunas String em valores Numericos\n",
    "colunas_string = [1, 3, 5, 6, 7, 8, 9, 13]\n",
    "\n",
    "for i in colunas_string:\n",
    "    previsores[:, i] = labelEncoder_previsores.fit_transform(previsores[:,i])\n",
    "    \n",
    "previsores"
   ],
   "metadata": {
    "collapsed": false,
    "pycharm": {
     "name": "#%%\n",
     "is_executing": false
    }
   }
  },
  {
   "cell_type": "code",
   "execution_count": 6,
   "outputs": [
    {
     "name": "stderr",
     "text": [
      "/home/johnny/anaconda3/envs/pre_processamento/lib/python3.7/site-packages/sklearn/preprocessing/_encoders.py:415: FutureWarning: The handling of integer data will change in version 0.22. Currently, the categories are determined based on the range [0, max(values)], while in the future they will be determined based on the unique values.\nIf you want the future behaviour and silence this warning, you can specify \"categories='auto'\".\nIn case you used a LabelEncoder before this OneHotEncoder to convert the categories to integers, then you can now use the OneHotEncoder directly.\n  warnings.warn(msg, FutureWarning)\n/home/johnny/anaconda3/envs/pre_processamento/lib/python3.7/site-packages/sklearn/preprocessing/_encoders.py:451: DeprecationWarning: The 'categorical_features' keyword is deprecated in version 0.20 and will be removed in 0.22. You can use the ColumnTransformer instead.\n  \"use the ColumnTransformer instead.\", DeprecationWarning)\n"
     ],
     "output_type": "stream"
    },
    {
     "data": {
      "text/plain": "array([[0.0000e+00, 0.0000e+00, 0.0000e+00, ..., 2.1740e+03, 0.0000e+00,\n        4.0000e+01],\n       [0.0000e+00, 0.0000e+00, 0.0000e+00, ..., 0.0000e+00, 0.0000e+00,\n        1.3000e+01],\n       [0.0000e+00, 0.0000e+00, 0.0000e+00, ..., 0.0000e+00, 0.0000e+00,\n        4.0000e+01],\n       ...,\n       [0.0000e+00, 0.0000e+00, 0.0000e+00, ..., 0.0000e+00, 0.0000e+00,\n        4.0000e+01],\n       [0.0000e+00, 0.0000e+00, 0.0000e+00, ..., 0.0000e+00, 0.0000e+00,\n        2.0000e+01],\n       [0.0000e+00, 0.0000e+00, 0.0000e+00, ..., 1.5024e+04, 0.0000e+00,\n        4.0000e+01]])"
     },
     "metadata": {},
     "output_type": "execute_result",
     "execution_count": 6
    }
   ],
   "source": [
    "# Cria colunas novas para cada valor diferente de cada coluna. Cria Colunas Dummies\n",
    "from sklearn.preprocessing import OneHotEncoder\n",
    "one_hot_encoder = OneHotEncoder(categorical_features=colunas_string)\n",
    "\n",
    "previsores = one_hot_encoder.fit_transform(previsores).toarray()\n",
    "previsores"
   ],
   "metadata": {
    "collapsed": false,
    "pycharm": {
     "name": "#%%\n",
     "is_executing": false
    }
   }
  },
  {
   "cell_type": "code",
   "execution_count": 7,
   "outputs": [
    {
     "data": {
      "text/plain": "array([0, 0, 0, ..., 0, 0, 1])"
     },
     "metadata": {},
     "output_type": "execute_result",
     "execution_count": 7
    }
   ],
   "source": [
    "# Faz a conversao numerica da coluna classe\n",
    "label_encoder_classe = LabelEncoder()\n",
    "classe = label_encoder_classe.fit_transform(classe)\n",
    "classe\n"
   ],
   "metadata": {
    "collapsed": false,
    "pycharm": {
     "name": "#%%\n",
     "is_executing": false
    }
   }
  },
  {
   "cell_type": "code",
   "execution_count": 8,
   "outputs": [
    {
     "data": {
      "text/plain": "array([[-0.2444502 , -0.17429511, -0.26209736, ...,  0.1484529 ,\n        -0.21665953, -0.03542945],\n       [-0.2444502 , -0.17429511, -0.26209736, ..., -0.14592048,\n        -0.21665953, -2.22215312],\n       [-0.2444502 , -0.17429511, -0.26209736, ..., -0.14592048,\n        -0.21665953, -0.03542945],\n       ...,\n       [-0.2444502 , -0.17429511, -0.26209736, ..., -0.14592048,\n        -0.21665953, -0.03542945],\n       [-0.2444502 , -0.17429511, -0.26209736, ..., -0.14592048,\n        -0.21665953, -1.65522476],\n       [-0.2444502 , -0.17429511, -0.26209736, ...,  1.88842434,\n        -0.21665953, -0.03542945]])"
     },
     "metadata": {},
     "output_type": "execute_result",
     "execution_count": 8
    }
   ],
   "source": [
    "# Transforma os dados de diferentes faixas de valores numa faixa equivalente.\n",
    "from sklearn.preprocessing import StandardScaler\n",
    "scaler = StandardScaler()\n",
    "previsores = scaler.fit_transform(previsores)\n",
    "previsores"
   ],
   "metadata": {
    "collapsed": false,
    "pycharm": {
     "name": "#%%\n",
     "is_executing": false
    }
   }
  }
 ],
 "metadata": {
  "language_info": {
   "codemirror_mode": {
    "name": "ipython",
    "version": 2
   },
   "file_extension": ".py",
   "mimetype": "text/x-python",
   "name": "python",
   "nbconvert_exporter": "python",
   "pygments_lexer": "ipython2",
   "version": "2.7.6"
  },
  "kernelspec": {
   "name": "python3",
   "language": "python",
   "display_name": "Python 3"
  },
  "pycharm": {
   "stem_cell": {
    "cell_type": "raw",
    "source": [],
    "metadata": {
     "collapsed": false
    }
   }
  }
 },
 "nbformat": 4,
 "nbformat_minor": 0
}