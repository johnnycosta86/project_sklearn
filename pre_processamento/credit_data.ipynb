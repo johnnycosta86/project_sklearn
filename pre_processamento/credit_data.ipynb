{
 "cells": [
  {
   "cell_type": "code",
   "execution_count": 1,
   "metadata": {
    "collapsed": true,
    "pycharm": {
     "is_executing": false
    }
   },
   "outputs": [
    {
     "data": {
      "text/plain": "          clientid        income          age          loan      default\ncount  2000.000000   2000.000000  1997.000000   2000.000000  2000.000000\nmean   1000.500000  45331.600018    40.807559   4444.369695     0.141500\nstd     577.494589  14326.327119    13.624469   3045.410024     0.348624\nmin       1.000000  20014.489470   -52.423280      1.377630     0.000000\n25%     500.750000  32796.459717    28.990415   1939.708847     0.000000\n50%    1000.500000  45789.117313    41.317159   3974.719419     0.000000\n75%    1500.250000  57791.281668    52.587040   6432.410625     0.000000\nmax    2000.000000  69995.685578    63.971796  13766.051239     1.000000",
      "text/html": "<div>\n<style scoped>\n    .dataframe tbody tr th:only-of-type {\n        vertical-align: middle;\n    }\n\n    .dataframe tbody tr th {\n        vertical-align: top;\n    }\n\n    .dataframe thead th {\n        text-align: right;\n    }\n</style>\n<table border=\"1\" class=\"dataframe\">\n  <thead>\n    <tr style=\"text-align: right;\">\n      <th></th>\n      <th>clientid</th>\n      <th>income</th>\n      <th>age</th>\n      <th>loan</th>\n      <th>default</th>\n    </tr>\n  </thead>\n  <tbody>\n    <tr>\n      <th>count</th>\n      <td>2000.000000</td>\n      <td>2000.000000</td>\n      <td>1997.000000</td>\n      <td>2000.000000</td>\n      <td>2000.000000</td>\n    </tr>\n    <tr>\n      <th>mean</th>\n      <td>1000.500000</td>\n      <td>45331.600018</td>\n      <td>40.807559</td>\n      <td>4444.369695</td>\n      <td>0.141500</td>\n    </tr>\n    <tr>\n      <th>std</th>\n      <td>577.494589</td>\n      <td>14326.327119</td>\n      <td>13.624469</td>\n      <td>3045.410024</td>\n      <td>0.348624</td>\n    </tr>\n    <tr>\n      <th>min</th>\n      <td>1.000000</td>\n      <td>20014.489470</td>\n      <td>-52.423280</td>\n      <td>1.377630</td>\n      <td>0.000000</td>\n    </tr>\n    <tr>\n      <th>25%</th>\n      <td>500.750000</td>\n      <td>32796.459717</td>\n      <td>28.990415</td>\n      <td>1939.708847</td>\n      <td>0.000000</td>\n    </tr>\n    <tr>\n      <th>50%</th>\n      <td>1000.500000</td>\n      <td>45789.117313</td>\n      <td>41.317159</td>\n      <td>3974.719419</td>\n      <td>0.000000</td>\n    </tr>\n    <tr>\n      <th>75%</th>\n      <td>1500.250000</td>\n      <td>57791.281668</td>\n      <td>52.587040</td>\n      <td>6432.410625</td>\n      <td>0.000000</td>\n    </tr>\n    <tr>\n      <th>max</th>\n      <td>2000.000000</td>\n      <td>69995.685578</td>\n      <td>63.971796</td>\n      <td>13766.051239</td>\n      <td>1.000000</td>\n    </tr>\n  </tbody>\n</table>\n</div>"
     },
     "metadata": {},
     "output_type": "execute_result",
     "execution_count": 1
    }
   ],
   "source": [
    "import pandas as pd\n",
    "import sklearn\n",
    "\n",
    "base = pd.read_csv('credit-data.csv')\n",
    "\n",
    "base.describe()"
   ]
  },
  {
   "cell_type": "code",
   "execution_count": 2,
   "outputs": [
    {
     "data": {
      "text/plain": "    clientid        income        age         loan  default\n15        16  50501.726689 -28.218361  3977.287432        0\n21        22  32197.620701 -52.423280  4244.057136        0\n26        27  63287.038908 -36.496976  9595.286289        0",
      "text/html": "<div>\n<style scoped>\n    .dataframe tbody tr th:only-of-type {\n        vertical-align: middle;\n    }\n\n    .dataframe tbody tr th {\n        vertical-align: top;\n    }\n\n    .dataframe thead th {\n        text-align: right;\n    }\n</style>\n<table border=\"1\" class=\"dataframe\">\n  <thead>\n    <tr style=\"text-align: right;\">\n      <th></th>\n      <th>clientid</th>\n      <th>income</th>\n      <th>age</th>\n      <th>loan</th>\n      <th>default</th>\n    </tr>\n  </thead>\n  <tbody>\n    <tr>\n      <th>15</th>\n      <td>16</td>\n      <td>50501.726689</td>\n      <td>-28.218361</td>\n      <td>3977.287432</td>\n      <td>0</td>\n    </tr>\n    <tr>\n      <th>21</th>\n      <td>22</td>\n      <td>32197.620701</td>\n      <td>-52.423280</td>\n      <td>4244.057136</td>\n      <td>0</td>\n    </tr>\n    <tr>\n      <th>26</th>\n      <td>27</td>\n      <td>63287.038908</td>\n      <td>-36.496976</td>\n      <td>9595.286289</td>\n      <td>0</td>\n    </tr>\n  </tbody>\n</table>\n</div>"
     },
     "metadata": {},
     "output_type": "execute_result",
     "execution_count": 2
    }
   ],
   "source": [
    "# Retorna a coluna Age que tem valor negativo\n",
    "base.loc[base['age'] < 0]"
   ],
   "metadata": {
    "collapsed": false,
    "pycharm": {
     "name": "#%%\n",
     "is_executing": false
    }
   }
  },
  {
   "cell_type": "code",
   "execution_count": 3,
   "outputs": [],
   "source": [
    "# Apagar coluna age do pandas\n",
    "#base.drop('age', 1, inplace=True)"
   ],
   "metadata": {
    "collapsed": false,
    "pycharm": {
     "name": "#%%\n",
     "is_executing": false
    }
   }
  },
  {
   "cell_type": "code",
   "execution_count": 4,
   "outputs": [],
   "source": [
    "# Apagar linhas do pandas que tem age negativo\n",
    "#base.drop(base[base.age < 0].index, inplace=True)"
   ],
   "metadata": {
    "collapsed": false,
    "pycharm": {
     "name": "#%%\n",
     "is_executing": false
    }
   }
  },
  {
   "cell_type": "code",
   "execution_count": 5,
   "outputs": [
    {
     "data": {
      "text/plain": "clientid     1000.500000\nincome      45331.600018\nage            40.807559\nloan         4444.369695\ndefault         0.141500\ndtype: float64"
     },
     "metadata": {},
     "output_type": "execute_result",
     "execution_count": 5
    }
   ],
   "source": [
    "# Caso uma coluna possua valores errados, substituir elas pela media dos outros.\n",
    "# Retorna a media de todas as colunas\n",
    "base.mean()"
   ],
   "metadata": {
    "collapsed": false,
    "pycharm": {
     "name": "#%%\n",
     "is_executing": false
    }
   }
  },
  {
   "cell_type": "code",
   "execution_count": 6,
   "outputs": [
    {
     "data": {
      "text/plain": "40.80755937840458"
     },
     "metadata": {},
     "output_type": "execute_result",
     "execution_count": 6
    }
   ],
   "source": [
    "# Media da coluna age\n",
    "base['age'].mean()\n"
   ],
   "metadata": {
    "collapsed": false,
    "pycharm": {
     "name": "#%%\n",
     "is_executing": false
    }
   }
  },
  {
   "cell_type": "code",
   "execution_count": 7,
   "outputs": [],
   "source": [
    "# Media da coluna age sem contar os registros negativos\n",
    "media = base['age'][base.age > 0].mean()"
   ],
   "metadata": {
    "collapsed": false,
    "pycharm": {
     "name": "#%%\n",
     "is_executing": false
    }
   }
  },
  {
   "cell_type": "code",
   "execution_count": 8,
   "outputs": [],
   "source": [
    "# Para os registros negativos, substitui pela media dos outros registros\n",
    "base.loc[base.age < 0, 'age'] = media\n"
   ],
   "metadata": {
    "collapsed": false,
    "pycharm": {
     "name": "#%%\n",
     "is_executing": false
    }
   }
  },
  {
   "cell_type": "code",
   "execution_count": 9,
   "outputs": [
    {
     "data": {
      "text/plain": "          clientid        income          age          loan      default\ncount  2000.000000   2000.000000  1997.000000   2000.000000  2000.000000\nmean   1000.500000  45331.600018    40.927700   4444.369695     0.141500\nstd     577.494589  14326.327119    13.261825   3045.410024     0.348624\nmin       1.000000  20014.489470    18.055189      1.377630     0.000000\n25%     500.750000  32796.459717    29.072097   1939.708847     0.000000\n50%    1000.500000  45789.117313    41.317159   3974.719419     0.000000\n75%    1500.250000  57791.281668    52.587040   6432.410625     0.000000\nmax    2000.000000  69995.685578    63.971796  13766.051239     1.000000",
      "text/html": "<div>\n<style scoped>\n    .dataframe tbody tr th:only-of-type {\n        vertical-align: middle;\n    }\n\n    .dataframe tbody tr th {\n        vertical-align: top;\n    }\n\n    .dataframe thead th {\n        text-align: right;\n    }\n</style>\n<table border=\"1\" class=\"dataframe\">\n  <thead>\n    <tr style=\"text-align: right;\">\n      <th></th>\n      <th>clientid</th>\n      <th>income</th>\n      <th>age</th>\n      <th>loan</th>\n      <th>default</th>\n    </tr>\n  </thead>\n  <tbody>\n    <tr>\n      <th>count</th>\n      <td>2000.000000</td>\n      <td>2000.000000</td>\n      <td>1997.000000</td>\n      <td>2000.000000</td>\n      <td>2000.000000</td>\n    </tr>\n    <tr>\n      <th>mean</th>\n      <td>1000.500000</td>\n      <td>45331.600018</td>\n      <td>40.927700</td>\n      <td>4444.369695</td>\n      <td>0.141500</td>\n    </tr>\n    <tr>\n      <th>std</th>\n      <td>577.494589</td>\n      <td>14326.327119</td>\n      <td>13.261825</td>\n      <td>3045.410024</td>\n      <td>0.348624</td>\n    </tr>\n    <tr>\n      <th>min</th>\n      <td>1.000000</td>\n      <td>20014.489470</td>\n      <td>18.055189</td>\n      <td>1.377630</td>\n      <td>0.000000</td>\n    </tr>\n    <tr>\n      <th>25%</th>\n      <td>500.750000</td>\n      <td>32796.459717</td>\n      <td>29.072097</td>\n      <td>1939.708847</td>\n      <td>0.000000</td>\n    </tr>\n    <tr>\n      <th>50%</th>\n      <td>1000.500000</td>\n      <td>45789.117313</td>\n      <td>41.317159</td>\n      <td>3974.719419</td>\n      <td>0.000000</td>\n    </tr>\n    <tr>\n      <th>75%</th>\n      <td>1500.250000</td>\n      <td>57791.281668</td>\n      <td>52.587040</td>\n      <td>6432.410625</td>\n      <td>0.000000</td>\n    </tr>\n    <tr>\n      <th>max</th>\n      <td>2000.000000</td>\n      <td>69995.685578</td>\n      <td>63.971796</td>\n      <td>13766.051239</td>\n      <td>1.000000</td>\n    </tr>\n  </tbody>\n</table>\n</div>"
     },
     "metadata": {},
     "output_type": "execute_result",
     "execution_count": 9
    }
   ],
   "source": [
    "# Nao existem mais registros com age negativo\n",
    "base.loc[base['age'] < 0]\n",
    "base.describe()\n"
   ],
   "metadata": {
    "collapsed": false,
    "pycharm": {
     "name": "#%%\n",
     "is_executing": false
    }
   }
  },
  {
   "cell_type": "code",
   "execution_count": 10,
   "outputs": [
    {
     "data": {
      "text/plain": "    clientid        income  age         loan  default\n28        29  59417.805406  NaN  2082.625938        0\n30        31  48528.852796  NaN  6155.784670        0\n31        32  23526.302555  NaN  2862.010139        0",
      "text/html": "<div>\n<style scoped>\n    .dataframe tbody tr th:only-of-type {\n        vertical-align: middle;\n    }\n\n    .dataframe tbody tr th {\n        vertical-align: top;\n    }\n\n    .dataframe thead th {\n        text-align: right;\n    }\n</style>\n<table border=\"1\" class=\"dataframe\">\n  <thead>\n    <tr style=\"text-align: right;\">\n      <th></th>\n      <th>clientid</th>\n      <th>income</th>\n      <th>age</th>\n      <th>loan</th>\n      <th>default</th>\n    </tr>\n  </thead>\n  <tbody>\n    <tr>\n      <th>28</th>\n      <td>29</td>\n      <td>59417.805406</td>\n      <td>NaN</td>\n      <td>2082.625938</td>\n      <td>0</td>\n    </tr>\n    <tr>\n      <th>30</th>\n      <td>31</td>\n      <td>48528.852796</td>\n      <td>NaN</td>\n      <td>6155.784670</td>\n      <td>0</td>\n    </tr>\n    <tr>\n      <th>31</th>\n      <td>32</td>\n      <td>23526.302555</td>\n      <td>NaN</td>\n      <td>2862.010139</td>\n      <td>0</td>\n    </tr>\n  </tbody>\n</table>\n</div>"
     },
     "metadata": {},
     "output_type": "execute_result",
     "execution_count": 10
    }
   ],
   "source": [
    "# Retorna todas as linhas que tem a coluna age com valor nulo\n",
    "base.loc[pd.isnull(base['age'])]\n"
   ],
   "metadata": {
    "collapsed": false,
    "pycharm": {
     "name": "#%%\n",
     "is_executing": false
    }
   }
  },
  {
   "cell_type": "code",
   "execution_count": 11,
   "outputs": [
    {
     "data": {
      "text/plain": "array([[6.61559251e+04, 5.90170151e+01, 8.10653213e+03],\n       [3.44151540e+04, 4.81171531e+01, 6.56474502e+03],\n       [5.73171701e+04, 6.31080495e+01, 8.02095330e+03],\n       ...,\n       [4.43114493e+04, 2.80171669e+01, 5.52278669e+03],\n       [4.37560566e+04, 6.39717958e+01, 1.62272260e+03],\n       [6.94365796e+04, 5.61526170e+01, 7.37883360e+03]])"
     },
     "metadata": {},
     "output_type": "execute_result",
     "execution_count": 11
    }
   ],
   "source": [
    "# Retorna todas as linhas, da coluna 1 ate a coluna 3\n",
    "previsores = base.iloc[:,1:4].values\n",
    "previsores"
   ],
   "metadata": {
    "collapsed": false,
    "pycharm": {
     "name": "#%%\n",
     "is_executing": false
    }
   }
  },
  {
   "cell_type": "code",
   "execution_count": 12,
   "outputs": [
    {
     "data": {
      "text/plain": "array([0, 0, 0, ..., 1, 0, 0])"
     },
     "metadata": {},
     "output_type": "execute_result",
     "execution_count": 12
    }
   ],
   "source": [
    "#Retorna todas as linhas, e a ultima coluna\n",
    "classe = base.iloc[:, 4].values\n",
    "classe\n"
   ],
   "metadata": {
    "collapsed": false,
    "pycharm": {
     "name": "#%%\n",
     "is_executing": false
    }
   }
  },
  {
   "cell_type": "code",
   "execution_count": 13,
   "outputs": [
    {
     "name": "stderr",
     "text": [
      "/home/johnny/anaconda3/envs/pre_processamento/lib/python3.7/site-packages/sklearn/utils/deprecation.py:66: DeprecationWarning: Class Imputer is deprecated; Imputer was deprecated in version 0.20 and will be removed in 0.22. Import impute.SimpleImputer from sklearn instead.\n  warnings.warn(msg, category=DeprecationWarning)\n"
     ],
     "output_type": "stream"
    }
   ],
   "source": [
    "# Faz o tratamento de valores nulos no DataFrame do Pandas\n",
    "from sklearn.preprocessing import Imputer\n",
    "imputer = Imputer(missing_values='NaN', strategy='mean', axis=0)\n",
    "\n",
    "# Seleciona todas as linhas, da coluna 1 ate a coluna 3 para retirar nulls\n",
    "imputer = imputer.fit(previsores[:, 0:3])"
   ],
   "metadata": {
    "collapsed": false,
    "pycharm": {
     "name": "#%%\n",
     "is_executing": false
    }
   }
  },
  {
   "cell_type": "code",
   "execution_count": 14,
   "outputs": [
    {
     "data": {
      "text/plain": "array([[6.61559251e+04, 5.90170151e+01, 8.10653213e+03],\n       [3.44151540e+04, 4.81171531e+01, 6.56474502e+03],\n       [5.73171701e+04, 6.31080495e+01, 8.02095330e+03],\n       ...,\n       [4.43114493e+04, 2.80171669e+01, 5.52278669e+03],\n       [4.37560566e+04, 6.39717958e+01, 1.62272260e+03],\n       [6.94365796e+04, 5.61526170e+01, 7.37883360e+03]])"
     },
     "metadata": {},
     "output_type": "execute_result",
     "execution_count": 14
    }
   ],
   "source": [
    "# Elimina todos valores nulos do DataFrame\n",
    "previsores[:, 0:3] = imputer.transform(previsores[:,0:3])\n",
    "previsores"
   ],
   "metadata": {
    "collapsed": false,
    "pycharm": {
     "name": "#%%\n",
     "is_executing": false
    }
   }
  },
  {
   "cell_type": "code",
   "execution_count": 15,
   "outputs": [],
   "source": [
    "# Quando os valores entre as colunas tem muita diferenca. Melhor Normalizar\n",
    "from sklearn.preprocessing import StandardScaler\n",
    "scaler = StandardScaler()"
   ],
   "metadata": {
    "collapsed": false,
    "pycharm": {
     "name": "#%%\n",
     "is_executing": false
    }
   }
  },
  {
   "cell_type": "code",
   "execution_count": 16,
   "outputs": [
    {
     "data": {
      "text/plain": "array([[ 1.45393393,  1.36538005,  1.20281942],\n       [-0.76217555,  0.54265932,  0.69642695],\n       [ 0.83682073,  1.67417101,  1.17471147],\n       ...,\n       [-0.07122592, -0.97448606,  0.35420081],\n       [-0.11000289,  1.73936652, -0.92675625],\n       [ 1.682986  ,  1.14917551,  0.96381038]])"
     },
     "metadata": {},
     "output_type": "execute_result",
     "execution_count": 16
    }
   ],
   "source": [
    "# Normaliza todos as linhas e colunas do DataFrame\n",
    "previsores = scaler.fit_transform(previsores)\n",
    "previsores"
   ],
   "metadata": {
    "collapsed": false,
    "pycharm": {
     "name": "#%%\n",
     "is_executing": false
    }
   }
  }
 ],
 "metadata": {
  "language_info": {
   "codemirror_mode": {
    "name": "ipython",
    "version": 2
   },
   "file_extension": ".py",
   "mimetype": "text/x-python",
   "name": "python",
   "nbconvert_exporter": "python",
   "pygments_lexer": "ipython2",
   "version": "2.7.6"
  },
  "kernelspec": {
   "name": "python3",
   "language": "python",
   "display_name": "Python 3"
  },
  "pycharm": {
   "stem_cell": {
    "cell_type": "raw",
    "source": [],
    "metadata": {
     "collapsed": false
    }
   }
  }
 },
 "nbformat": 4,
 "nbformat_minor": 0
}