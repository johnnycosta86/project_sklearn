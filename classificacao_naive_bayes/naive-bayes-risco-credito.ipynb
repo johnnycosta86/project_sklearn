{
 "cells": [
  {
   "cell_type": "code",
   "execution_count": 49,
   "metadata": {
    "collapsed": true,
    "pycharm": {
     "is_executing": false
    }
   },
   "outputs": [
    {
     "data": {
      "text/plain": "       historia divida garantias     renda     risco\n0          ruim   alta   nenhuma      0_15      alto\n1  desconhecida   alta   nenhuma     15_35      alto\n2  desconhecida  baixa   nenhuma     15_35  moderado\n3  desconhecida  baixa   nenhuma  acima_35      alto\n4  desconhecida  baixa   nenhuma  acima_35     baixo",
      "text/html": "<div>\n<style scoped>\n    .dataframe tbody tr th:only-of-type {\n        vertical-align: middle;\n    }\n\n    .dataframe tbody tr th {\n        vertical-align: top;\n    }\n\n    .dataframe thead th {\n        text-align: right;\n    }\n</style>\n<table border=\"1\" class=\"dataframe\">\n  <thead>\n    <tr style=\"text-align: right;\">\n      <th></th>\n      <th>historia</th>\n      <th>divida</th>\n      <th>garantias</th>\n      <th>renda</th>\n      <th>risco</th>\n    </tr>\n  </thead>\n  <tbody>\n    <tr>\n      <th>0</th>\n      <td>ruim</td>\n      <td>alta</td>\n      <td>nenhuma</td>\n      <td>0_15</td>\n      <td>alto</td>\n    </tr>\n    <tr>\n      <th>1</th>\n      <td>desconhecida</td>\n      <td>alta</td>\n      <td>nenhuma</td>\n      <td>15_35</td>\n      <td>alto</td>\n    </tr>\n    <tr>\n      <th>2</th>\n      <td>desconhecida</td>\n      <td>baixa</td>\n      <td>nenhuma</td>\n      <td>15_35</td>\n      <td>moderado</td>\n    </tr>\n    <tr>\n      <th>3</th>\n      <td>desconhecida</td>\n      <td>baixa</td>\n      <td>nenhuma</td>\n      <td>acima_35</td>\n      <td>alto</td>\n    </tr>\n    <tr>\n      <th>4</th>\n      <td>desconhecida</td>\n      <td>baixa</td>\n      <td>nenhuma</td>\n      <td>acima_35</td>\n      <td>baixo</td>\n    </tr>\n  </tbody>\n</table>\n</div>"
     },
     "metadata": {},
     "output_type": "execute_result",
     "execution_count": 49
    }
   ],
   "source": [
    "import pandas as pd\n",
    "\n",
    "base = pd.read_csv('risco_credito.csv')\n",
    "base.shape\n",
    "base.head()"
   ]
  },
  {
   "cell_type": "code",
   "execution_count": 50,
   "outputs": [],
   "source": [
    "previsores = base.iloc[:, 0:4].values\n",
    "classe = base.iloc[:, 4].values"
   ],
   "metadata": {
    "collapsed": false,
    "pycharm": {
     "name": "#%%\n",
     "is_executing": false
    }
   }
  },
  {
   "cell_type": "code",
   "execution_count": 51,
   "outputs": [],
   "source": [
    "from sklearn.preprocessing import LabelEncoder\n",
    "labelEncoder = LabelEncoder()\n",
    "\n",
    "for i in [0,1,2,3]:\n",
    "    previsores[:, i] = labelEncoder.fit_transform(previsores[:, i])"
   ],
   "metadata": {
    "collapsed": false,
    "pycharm": {
     "name": "#%%\n",
     "is_executing": false
    }
   }
  },
  {
   "cell_type": "code",
   "execution_count": 52,
   "outputs": [],
   "source": [
    "from sklearn.naive_bayes import GaussianNB\n",
    "classificador = GaussianNB()\n",
    "classificador.fit(previsores, classe)\n",
    "previsoes = classificador.predict([[0, 0, 1, 2], [3, 0, 0, 0]])"
   ],
   "metadata": {
    "collapsed": false,
    "pycharm": {
     "name": "#%%\n",
     "is_executing": false
    }
   }
  },
  {
   "cell_type": "code",
   "execution_count": 53,
   "outputs": [
    {
     "name": "stdout",
     "text": [
      "['baixo' 'moderado']\n"
     ],
     "output_type": "stream"
    }
   ],
   "source": [
    "print(previsoes)"
   ],
   "metadata": {
    "collapsed": false,
    "pycharm": {
     "name": "#%%\n",
     "is_executing": false
    }
   }
  },
  {
   "cell_type": "code",
   "execution_count": 54,
   "outputs": [
    {
     "name": "stdout",
     "text": [
      "['alto' 'baixo' 'moderado']\n"
     ],
     "output_type": "stream"
    }
   ],
   "source": [
    "print(classificador.classes_)"
   ],
   "metadata": {
    "collapsed": false,
    "pycharm": {
     "name": "#%%\n",
     "is_executing": false
    }
   }
  },
  {
   "cell_type": "code",
   "execution_count": 55,
   "outputs": [
    {
     "name": "stdout",
     "text": [
      "[0.42857143 0.35714286 0.21428571]\n"
     ],
     "output_type": "stream"
    }
   ],
   "source": [
    "print(classificador.class_prior_)"
   ],
   "metadata": {
    "collapsed": false,
    "pycharm": {
     "name": "#%%\n",
     "is_executing": false
    }
   }
  },
  {
   "cell_type": "code",
   "execution_count": 56,
   "outputs": [
    {
     "name": "stdout",
     "text": [
      "[6. 5. 3.]\n"
     ],
     "output_type": "stream"
    }
   ],
   "source": [
    "print(classificador.class_count_)\n"
   ],
   "metadata": {
    "collapsed": false,
    "pycharm": {
     "name": "#%%\n",
     "is_executing": false
    }
   }
  }
 ],
 "metadata": {
  "language_info": {
   "codemirror_mode": {
    "name": "ipython",
    "version": 2
   },
   "file_extension": ".py",
   "mimetype": "text/x-python",
   "name": "python",
   "nbconvert_exporter": "python",
   "pygments_lexer": "ipython2",
   "version": "2.7.6"
  },
  "kernelspec": {
   "name": "python3",
   "language": "python",
   "display_name": "Python 3"
  },
  "pycharm": {
   "stem_cell": {
    "cell_type": "raw",
    "source": [],
    "metadata": {
     "collapsed": false
    }
   }
  }
 },
 "nbformat": 4,
 "nbformat_minor": 0
}